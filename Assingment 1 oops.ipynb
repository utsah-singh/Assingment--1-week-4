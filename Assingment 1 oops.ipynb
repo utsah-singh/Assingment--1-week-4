{
 "cells": [
  {
   "cell_type": "markdown",
   "id": "7e5a158a-4633-438e-b549-050c0f1bf117",
   "metadata": {},
   "source": [
    "Answer = 1"
   ]
  },
  {
   "cell_type": "markdown",
   "id": "7f157a90-ceb4-4544-9e1d-edd2cc9792d3",
   "metadata": {},
   "source": [
    "In Object-Oriented Programming (OOP), a class and an object are fundamental concepts that help structure and organize code. Let me explain these concepts with a suitable example.\n",
    "\n",
    "1 . Class:\n",
    "\n",
    "A class is a blueprint or template for creating objects. It defines the properties (attributes) and behaviors (methods) that objects of that class will have. Think of it as a blueprint for creating objects of a particular type.\n",
    "A class serves as a way to encapsulate data and behavior, making it a fundamental building block in OOP.\n",
    "Example:\n",
    "Let's consider a simple class called 'Car':"
   ]
  },
  {
   "cell_type": "code",
   "execution_count": 1,
   "id": "022142c8-21be-4960-a595-03bcc161ddf2",
   "metadata": {},
   "outputs": [],
   "source": [
    "class Car:\n",
    "    def __init__(self, make, model, year):\n",
    "        self.make = make\n",
    "        self.model = model\n",
    "        self.year = year\n",
    "        self.speed = 0\n",
    "\n",
    "    def accelerate(self):\n",
    "        self.speed += 5\n",
    "\n",
    "    def brake(self):\n",
    "        self.speed -= 5\n",
    "\n",
    "    def honk(self):\n",
    "        print(f\"{self.make} {self.model} honks!\")\n",
    "\n",
    "# In this example, the \"Car\" class defines the blueprint for creating car objects."
   ]
  },
  {
   "cell_type": "markdown",
   "id": "5bef8bfb-40c0-4de2-8f92-927c74013e6f",
   "metadata": {},
   "source": [
    "2 . Object:\n",
    "\n",
    "An object is an instance of a class. It's a concrete realization of the blueprint defined by the class. Objects have their own unique data (attributes) and can perform actions (methods) defined in the class.\n",
    "Objects allow you to work with and manipulate data in a modular and organized way.\n",
    "Example:\n",
    "Now, let's create instances (objects) of the 'Car' class:"
   ]
  },
  {
   "cell_type": "code",
   "execution_count": 2,
   "id": "b769d6b2-3b0e-4379-9596-505843997b9d",
   "metadata": {},
   "outputs": [
    {
     "name": "stdout",
     "output_type": "stream",
     "text": [
      "Toyota Camry year 2022 is currently at a speed of 5 km/h.\n",
      "Honda Civic year 2023 is currently at a speed of 5 km/h.\n",
      "Toyota Camry honks!\n",
      "Honda Civic honks!\n"
     ]
    }
   ],
   "source": [
    "# Creating two Car objects\n",
    "car1 = Car(\"Toyota\", \"Camry\", 2022)\n",
    "car2 = Car(\"Honda\", \"Civic\", 2023)\n",
    "\n",
    "# Using the methods of the Car objects\n",
    "car1.accelerate()  # Accelerate car1\n",
    "car2.accelerate()  # Accelerate car2\n",
    "\n",
    "# Accessing object attributes\n",
    "print(f\"{car1.make} {car1.model} year {car1.year} is currently at a speed of {car1.speed} km/h.\")\n",
    "print(f\"{car2.make} {car2.model} year {car2.year} is currently at a speed of {car2.speed} km/h.\")\n",
    "\n",
    "# Honk the horns\n",
    "car1.honk()  # Toyota Camry honks!\n",
    "car2.honk()  # Honda Civic honks!"
   ]
  },
  {
   "cell_type": "markdown",
   "id": "2f97d324-81f2-4a1c-b589-fc07845fefbc",
   "metadata": {},
   "source": [
    "In this example, 'Car' is the class, and 'car1' and 'car2' are objects (instances) of that class. The objects have their own unique attributes (make, model, year, speed) and can perform actions (accelerate, brake, honk) as defined by the class. This encapsulation and organization of data and behavior are central to OOP's principles of abstraction and modularity."
   ]
  },
  {
   "cell_type": "markdown",
   "id": "c6cc0de6-ca42-4986-a0b7-2792a4ceb720",
   "metadata": {},
   "source": [
    "Answer = 2"
   ]
  },
  {
   "cell_type": "markdown",
   "id": "c9982b48-7da8-4ed3-a708-f8bae12f47a3",
   "metadata": {},
   "source": [
    "The four pillars of Object-Oriented Programming (OOP) are:\n",
    "\n",
    "1 . Encapsulation: Encapsulation is the concept of bundling data (attributes) and methods (functions) that operate on that data into a single unit called a class. It allows you to control the access to the internal state of an object and ensures that data is accessed and modified through well-defined interfaces (methods). Encapsulation helps in data hiding and reduces the risk of unintended interference with an object's internal state.\n",
    "\n",
    "2 . Abstraction: Abstraction is the process of simplifying complex systems by breaking them into smaller, more manageable parts. In OOP, classes and objects allow you to abstract real-world entities by modeling their essential characteristics and behaviors. Abstraction hides the complex implementation details and focuses on the essential features, making it easier to understand and work with the code.\n",
    "\n",
    "3 . Inheritance: Inheritance is a mechanism that allows a new class (subclass or derived class) to inherit properties and behaviors from an existing class (base class or superclass). This promotes code reuse and establishes an \"is-a\" relationship between classes. Inheritance enables you to create a hierarchy of classes where each subclass inherits attributes and methods from its superclass and can also add or modify its own features.\n",
    "\n",
    "4 . Polymorphism: Polymorphism is the ability of different objects to respond to the same method or function in a way that is specific to their individual types. It allows you to write code that can work with objects of different classes in a unified way. Polymorphism is often achieved through method overriding (in the case of inheritance) and through interfaces or abstract classes in some OOP languages. This feature enhances code flexibility and extensibility.\n",
    "\n",
    "These four pillars are fundamental principles in OOP, and they help in creating code that is more modular, maintainable, and flexible by promoting concepts such as encapsulation, abstraction, code reuse, and polymorphic behavior."
   ]
  },
  {
   "cell_type": "markdown",
   "id": "bd1ac66b-2690-47c2-8918-ebdbe2c547e5",
   "metadata": {},
   "source": [
    "Answer = 3"
   ]
  },
  {
   "cell_type": "markdown",
   "id": "a79b841c-269f-4ed3-8cb1-34b2797ad248",
   "metadata": {},
   "source": [
    "The '__init__()' function, often referred to as the constructor, is a special method in Python used to initialize the attributes of an object when an instance of a class is created. It is called automatically when you create a new object from a class, and it allows you to set the initial state of the object by specifying values for its attributes.\n",
    "\n",
    "Here's why the ''__init__()' function is used:\n",
    "\n",
    "Attribute Initialization: The primary purpose of '__init__()' is to set the initial values for the attributes (data members) of an object. This ensures that when an object is created, it starts with a well-defined state.\n",
    "\n",
    "Customization: You can define the '__init__()' method to accept parameters, allowing you to customize the initial state of each object. This means that different objects of the same class can have different initial values for their attributes.\n",
    "\n",
    "Automatic Invocation: The '__init__()' method is automatically called when you create an instance of a class, so you don't have to call it explicitly. This makes it convenient for initializing objects.\n",
    "\n",
    "Here's an example to illustrate the usage of '__init__()':\n",
    "\n"
   ]
  },
  {
   "cell_type": "code",
   "execution_count": 3,
   "id": "5abc0835-a1af-4aeb-9b60-7b6854313db5",
   "metadata": {},
   "outputs": [
    {
     "name": "stdout",
     "output_type": "stream",
     "text": [
      "Hi, I'm Alice and I'm 30 years old.\n",
      "Hi, I'm Bob and I'm 25 years old.\n"
     ]
    }
   ],
   "source": [
    "class Person:\n",
    "    def __init__(self, name, age):\n",
    "        self.name = name\n",
    "        self.age = age\n",
    "\n",
    "    def introduce(self):\n",
    "        print(f\"Hi, I'm {self.name} and I'm {self.age} years old.\")\n",
    "\n",
    "# Creating instances (objects) of the Person class\n",
    "person1 = Person(\"Alice\", 30)\n",
    "person2 = Person(\"Bob\", 25)\n",
    "\n",
    "# Accessing object attributes and calling methods\n",
    "person1.introduce()  # Output: Hi, I'm Alice and I'm 30 years old.\n",
    "person2.introduce()  # Output: Hi, I'm Bob and I'm 25 years old."
   ]
  },
  {
   "cell_type": "markdown",
   "id": "ab9febda-75b6-4940-8276-bdada201b2b2",
   "metadata": {},
   "source": [
    "In this example, the '__init__()' method is defined to take 'name' and 'age'' as parameters and initialize the 'name' and 'age' attributes of the 'Person' objects. When 'person1' and 'person2'' are created, their 'name' and 'age' attributes are set based on the arguments passed to the constructor. This allows for the customization of each 'Person' object's initial state."
   ]
  },
  {
   "cell_type": "markdown",
   "id": "5ccf0e92-24de-435e-b345-8410b43840d4",
   "metadata": {},
   "source": [
    "Answer = 4"
   ]
  },
  {
   "cell_type": "markdown",
   "id": "e9b444df-84d0-40d4-b082-194c387e1a14",
   "metadata": {},
   "source": [
    "\n",
    "In Object-Oriented Programming (OOP), self is a convention used in many object-oriented programming languages, including Python, to refer to the current instance of a class. It serves several important purposes:\n",
    "\n",
    "Instance Reference: self is a reference to the current object (instance of a class). It allows you to access and manipulate the attributes and methods of the current instance. Without self, you wouldn't be able to distinguish between instance-specific attributes and global or local variables.\n",
    "\n",
    "Attribute Access: When you want to access or modify an object's attributes within a class method, you use self to indicate that you are working with the instance's attributes, not local variables or parameters. For example, self.attribute refers to the instance's attribute, while attribute without self would refer to a local variable or parameter.\n",
    "\n",
    "Method Invocation: You use self to call other methods within the class. This is necessary to invoke methods on the current instance, and it helps in organizing and encapsulating the behavior associated with the object.\n",
    "\n",
    "Differentiating Class and Instance Members: By using self, you distinguish between class-level attributes and methods (shared across all instances) and instance-level attributes and methods (specific to each object). Without self, it might be ambiguous whether you're referring to a class-level or instance-level element.\n",
    "\n",
    "Here's a simple example in Python to illustrate the usage of self:"
   ]
  },
  {
   "cell_type": "code",
   "execution_count": 4,
   "id": "024c356f-97f2-4b84-9488-bdef0b9f7123",
   "metadata": {},
   "outputs": [
    {
     "name": "stdout",
     "output_type": "stream",
     "text": [
      "Buddy (Golden Retriever) barks!\n",
      "Max (German Shepherd) barks!\n"
     ]
    }
   ],
   "source": [
    "class Dog:\n",
    "    def __init__(self, name, breed):\n",
    "        self.name = name  # Instance-specific attribute\n",
    "        self.breed = breed  # Instance-specific attribute\n",
    "\n",
    "    def bark(self):\n",
    "        print(f\"{self.name} ({self.breed}) barks!\")  # Using self to access instance attributes\n",
    "\n",
    "# Creating instances of the Dog class\n",
    "dog1 = Dog(\"Buddy\", \"Golden Retriever\")\n",
    "dog2 = Dog(\"Max\", \"German Shepherd\")\n",
    "\n",
    "# Calling the bark method for each dog\n",
    "dog1.bark()  # Output: Buddy (Golden Retriever) barks!\n",
    "dog2.bark()  # Output: Max (German Shepherd) barks!"
   ]
  },
  {
   "cell_type": "markdown",
   "id": "20304a82-8c42-46a5-8d37-8b7417b4f341",
   "metadata": {},
   "source": [
    "In this example, 'self' is used to access and set the 'name' and 'breed'' attributes within the '__init__()' method and to call the 'bark()' method for each instance. It ensures that the attributes and methods are associated with the appropriate instance of the class."
   ]
  },
  {
   "cell_type": "markdown",
   "id": "3402efc0-393e-4544-b7df-cbf129437a37",
   "metadata": {},
   "source": [
    "Answer = 5"
   ]
  },
  {
   "cell_type": "markdown",
   "id": "0778d61f-3088-41b8-93d3-831b6cdee7cd",
   "metadata": {},
   "source": [
    "Inheritance is one of the four fundamental principles of Object-Oriented Programming (OOP) and is a mechanism that allows a new class (called the subclass or derived class) to inherit properties and behaviors from an existing class (called the superclass or base class). Inheritance promotes code reuse and establishes an \"is-a\" relationship between classes, where a subclass is a specialized version of its superclass. This allows you to create a hierarchy of classes and build upon existing code, making it a powerful and important concept in OOP.\n",
    "\n",
    "There are various types of inheritance in OOP, including single inheritance, multiple inheritance, multilevel inheritance, hierarchical inheritance, and hybrid inheritance. I'll provide an example for each of the three most common types:\n",
    "\n",
    "1 . Single Inheritance:\n",
    "\n",
    "Single inheritance occurs when a class inherits from only one superclass. It is the simplest and most commonly used type of inheritance.\n",
    "Example:"
   ]
  },
  {
   "cell_type": "code",
   "execution_count": 1,
   "id": "02a6bb1a-00c7-4745-8c5f-0a057e9fcb14",
   "metadata": {},
   "outputs": [
    {
     "name": "stdout",
     "output_type": "stream",
     "text": [
      "Woof!\n"
     ]
    }
   ],
   "source": [
    "# Base class (superclass)\n",
    "class Animal:\n",
    "    def speak(self):\n",
    "        pass\n",
    "\n",
    "# Derived class (subclass)\n",
    "class Dog(Animal):\n",
    "    def speak(self):\n",
    "        return \"Woof!\"\n",
    "\n",
    "# Creating an instance of the Dog class and using inheritance\n",
    "dog = Dog()\n",
    "print(dog.speak())  # Output: Woof!"
   ]
  },
  {
   "cell_type": "markdown",
   "id": "1f6f203c-6990-4405-b25d-4527d6e9d03e",
   "metadata": {},
   "source": [
    "2 . Multiple Inheritance:\n",
    "\n",
    "Multiple inheritance occurs when a class inherits from more than one superclass. This allows a subclass to inherit attributes and methods from multiple parent classes.\n",
    "Example:"
   ]
  },
  {
   "cell_type": "code",
   "execution_count": 2,
   "id": "fa3f980e-ea82-48dc-98f5-44cfaaade936",
   "metadata": {},
   "outputs": [
    {
     "name": "stdout",
     "output_type": "stream",
     "text": [
      "Can fly\n",
      "Can swim\n"
     ]
    }
   ],
   "source": [
    "# Base classes (superclasses)\n",
    "class Bird:\n",
    "    def fly(self):\n",
    "        return \"Can fly\"\n",
    "\n",
    "class Fish:\n",
    "    def swim(self):\n",
    "        return \"Can swim\"\n",
    "\n",
    "# Derived class (subclass) inheriting from both Bird and Fish\n",
    "class FlyingFish(Bird, Fish):\n",
    "    pass\n",
    "\n",
    "# Creating an instance of the FlyingFish class and using multiple inheritance\n",
    "flying_fish = FlyingFish()\n",
    "print(flying_fish.fly())  # Output: Can fly\n",
    "print(flying_fish.swim())  # Output: Can swim"
   ]
  },
  {
   "cell_type": "markdown",
   "id": "be2a8114-2362-4c31-99b0-b145222cbf18",
   "metadata": {},
   "source": [
    " 3 . Multilevel Inheritance:\n",
    "\n",
    "Multilevel inheritance occurs when a class inherits from a superclass, which in turn inherits from another superclass. This creates a chain of inheritance.\n",
    "Example:"
   ]
  },
  {
   "cell_type": "code",
   "execution_count": 3,
   "id": "636c30f8-4819-4911-bc74-068674223c25",
   "metadata": {},
   "outputs": [
    {
     "name": "stdout",
     "output_type": "stream",
     "text": [
      "Can move\n",
      "Can be driven\n"
     ]
    }
   ],
   "source": [
    "# Grandparent class\n",
    "class Vehicle:\n",
    "    def move(self):\n",
    "        return \"Can move\"\n",
    "\n",
    "# Parent class inheriting from Vehicle\n",
    "class Car(Vehicle):\n",
    "    def drive(self):\n",
    "        return \"Can be driven\"\n",
    "\n",
    "# Child class inheriting from Car\n",
    "class SportsCar(Car):\n",
    "    pass\n",
    "\n",
    "# Creating an instance of the SportsCar class and using multilevel inheritance\n",
    "sports_car = SportsCar()\n",
    "print(sports_car.move())  # Output: Can move\n",
    "print(sports_car.drive())  # Output: Can be driven"
   ]
  },
  {
   "cell_type": "markdown",
   "id": "2de3995c-b11f-4d23-a050-17ffa267f174",
   "metadata": {},
   "source": [
    "In these examples, you can see how inheritance allows classes to inherit attributes and methods from their parent classes, promoting code reuse and the organization of related classes into hierarchies. Different types of inheritance can be used depending on the specific requirements of your program.\n",
    "\n",
    "\n",
    "\n",
    "\n",
    "\n"
   ]
  },
  {
   "cell_type": "code",
   "execution_count": null,
   "id": "54bfe4fc-541e-4c9e-9bd7-8053b44ccdac",
   "metadata": {},
   "outputs": [],
   "source": []
  }
 ],
 "metadata": {
  "kernelspec": {
   "display_name": "Python 3 (ipykernel)",
   "language": "python",
   "name": "python3"
  },
  "language_info": {
   "codemirror_mode": {
    "name": "ipython",
    "version": 3
   },
   "file_extension": ".py",
   "mimetype": "text/x-python",
   "name": "python",
   "nbconvert_exporter": "python",
   "pygments_lexer": "ipython3",
   "version": "3.10.8"
  }
 },
 "nbformat": 4,
 "nbformat_minor": 5
}
